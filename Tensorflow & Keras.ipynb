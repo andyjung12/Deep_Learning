{
 "cells": [
  {
   "cell_type": "code",
   "execution_count": 7,
   "metadata": {
    "id": "i1gz__wUUVY3"
   },
   "outputs": [],
   "source": [
    "import tensorflow as tf\n",
    "tf.enable_eager_execution() # For using numpy on Tensorflow 1.14\n",
    "import numpy as np\n",
    "import matplotlib.pyplot as plt"
   ]
  },
  {
   "cell_type": "code",
   "execution_count": 2,
   "metadata": {
    "colab": {
     "base_uri": "https://localhost:8080/"
    },
    "id": "0zf2dr4GNdN0",
    "outputId": "e61354a3-2cd8-4732-b86a-4b35f6e2e622"
   },
   "outputs": [
    {
     "name": "stdout",
     "output_type": "stream",
     "text": [
      "tf.Tensor(2.0, shape=(), dtype=float32)\n",
      "<tf.Variable 'Variable:0' shape=() dtype=float32, numpy=10.0>\n"
     ]
    },
    {
     "data": {
      "text/plain": [
       "<tf.Tensor: id=16, shape=(), dtype=float32, numpy=12.0>"
      ]
     },
     "execution_count": 2,
     "metadata": {},
     "output_type": "execute_result"
    }
   ],
   "source": [
    "a = tf.constant(2.0)\n",
    "y = tf.constant(8.0)\n",
    "# 변수\n",
    "x = tf.Variable(10.0)\n",
    "\n",
    "print(a)\n",
    "print(x)\n",
    "\n",
    "loss = tf.math.abs(a*x - y)\n",
    "loss"
   ]
  },
  {
   "cell_type": "code",
   "execution_count": 3,
   "metadata": {
    "colab": {
     "base_uri": "https://localhost:8080/"
    },
    "id": "wnSG8Yr2-_Kl",
    "outputId": "3c5e7487-fe2c-4835-a9de-747d3462fa72"
   },
   "outputs": [
    {
     "data": {
      "text/plain": [
       "12.0"
      ]
     },
     "execution_count": 3,
     "metadata": {},
     "output_type": "execute_result"
    }
   ],
   "source": [
    "loss.numpy()"
   ]
  },
  {
   "cell_type": "code",
   "execution_count": 4,
   "metadata": {
    "colab": {
     "base_uri": "https://localhost:8080/"
    },
    "id": "dbb03OrpO8gB",
    "outputId": "be1a125e-70fe-4d90-a397-17252f9a5e1a"
   },
   "outputs": [
    {
     "name": "stdout",
     "output_type": "stream",
     "text": [
      "x = 10.0, dx = 2.0\n",
      "x = 8.0, dx = 2.0\n",
      "x = 6.0, dx = 2.0\n",
      "x = 4.0, dx = 0.0\n"
     ]
    }
   ],
   "source": [
    "def train_func():\n",
    "    with tf.GradientTape() as tape:\n",
    "        loss = tf.math.abs(a*x - y)\n",
    "\n",
    "    dx = tape.gradient(loss, x)\n",
    "    print('x = {}, dx = {}'.format(x.numpy(), dx))\n",
    "\n",
    "    x.assign(x - dx) # x = x - dx\n",
    "# Run train_func() UDF repeately\n",
    "for i in range(4):\n",
    "    train_func()"
   ]
  },
  {
   "cell_type": "markdown",
   "metadata": {
    "id": "u8TvQSQhUVY5"
   },
   "source": [
    "GradientTape : https://www.tensorflow.org/guide/autodiff?hl=ko"
   ]
  },
  {
   "cell_type": "markdown",
   "metadata": {},
   "source": [
    "## Gradient 계산하기"
   ]
  },
  {
   "cell_type": "code",
   "execution_count": 5,
   "metadata": {
    "colab": {
     "base_uri": "https://localhost:8080/"
    },
    "id": "mB1gvjfwUVY6",
    "outputId": "3809a280-1d43-4242-d81f-a0567b8ae30b"
   },
   "outputs": [
    {
     "name": "stdout",
     "output_type": "stream",
     "text": [
      "epoch = 0, loss = 15.339600563049316\n",
      "epoch = 500, loss = 3.654714584350586\n",
      "epoch = 1000, loss = 2.3881609439849854\n",
      "epoch = 1500, loss = 2.092434883117676\n",
      "epoch = 2000, loss = 1.8692306280136108\n",
      "epoch = 2500, loss = 1.6479507684707642\n",
      "epoch = 3000, loss = 1.4266934394836426\n",
      "epoch = 3500, loss = 1.2054353952407837\n",
      "epoch = 4000, loss = 0.9841772317886353\n",
      "epoch = 4500, loss = 0.7629194259643555\n",
      "epoch = 5000, loss = 0.5416613221168518\n",
      "epoch = 5500, loss = 0.32040339708328247\n",
      "epoch = 6000, loss = 0.09914518892765045\n",
      "epoch = 6500, loss = 0.06283099204301834\n",
      "epoch = 7000, loss = 0.06286193430423737\n",
      "epoch = 7500, loss = 0.06295895576477051\n",
      "epoch = 8000, loss = 0.06295895576477051\n",
      "epoch = 8500, loss = 0.06295895576477051\n",
      "epoch = 9000, loss = 0.06295895576477051\n",
      "epoch = 9500, loss = 0.06295895576477051\n",
      "Wall time: 18.8 s\n"
     ]
    }
   ],
   "source": [
    "%%time\n",
    "# 데이터 집합 생성\n",
    "x = np.array(np.arange(-5, 5, 0.1))\n",
    "y = 2*x*x + 3*x +5\n",
    "# 계수 설정 : 초기값\n",
    "lr = 0.001\n",
    "\n",
    "w1 = tf.Variable(1.0)\n",
    "w2 = tf.Variable(1.0)\n",
    "b = tf.Variable(1.0)\n",
    "\n",
    "# 학습\n",
    "histLoss = []\n",
    "for epoch in range(10000):\n",
    "    with tf.GradientTape() as tape:\n",
    "        loss = tf.sqrt(tf.reduce_mean(tf.square(w1*x*x + w2*x + b - y))) # forward 기록\n",
    "    \n",
    "    # 각 파라미터의 gradient 값 (미분)\n",
    "    dw1, dw2, db = tape.gradient(loss, [w1, w2, b])\n",
    "    \n",
    "    # weight update (매개변수 갱신)\n",
    "    # sub = subtract\n",
    "    w1.assign_sub(lr*dw1) # w1 = w1 - lr *dw\n",
    "    w2.assign_sub(lr*dw2)\n",
    "    b.assign_sub(lr*db)\n",
    "    \n",
    "    histLoss.append(loss)\n",
    "    if epoch % 500 == 0:\n",
    "        print(\"epoch = {}, loss = {}\".format(epoch, loss))"
   ]
  },
  {
   "cell_type": "code",
   "execution_count": 6,
   "metadata": {
    "colab": {
     "base_uri": "https://localhost:8080/",
     "height": 403
    },
    "id": "rjc5HyG8UVY7",
    "outputId": "1fe56299-0640-493a-88d1-8e21141e98a6"
   },
   "outputs": [
    {
     "name": "stdout",
     "output_type": "stream",
     "text": [
      "\n",
      "추정 결과 :\n",
      "w1 = 2.01\n",
      "w2 = 3.00\n",
      "b = 5.00\n",
      "final loss = 0.0627\n"
     ]
    },
    {
     "data": {
      "image/png": "[encoded data removed]",
      "text/plain": [
       "<Figure size 432x288 with 1 Axes>"
      ]
     },
     "metadata": {
      "needs_background": "light"
     },
     "output_type": "display_data"
    }
   ],
   "source": [
    "print(\"\\n추정 결과 :\")\n",
    "print(\"w1 = %.2f\" % w1.numpy())\n",
    "print(\"w2 = %.2f\" % w2.numpy())\n",
    "print(\"b = %.2f\" % b.numpy())\n",
    "print(\"final loss = %.4f\" % loss.numpy())\n",
    "\n",
    "plt.plot(histLoss, color='red', linewidth=1)\n",
    "plt.title(\"Loss function\")\n",
    "plt.xlabel(\"epoch\")\n",
    "plt.ylabel(\"loss\")\n",
    "plt.show()"
   ]
  },
  {
   "cell_type": "markdown",
   "metadata": {
    "id": "asYJwpHIUVY8"
   },
   "source": [
    "# SGD + Momentum"
   ]
  },
  {
   "cell_type": "code",
   "execution_count": 8,
   "metadata": {
    "id": "rjLVq8fRUVY8"
   },
   "outputs": [],
   "source": [
    "import tensorflow as tf\n",
    "from tensorflow.keras import optimizers\n",
    "import numpy as np\n",
    "import matplotlib.pyplot as plt"
   ]
  },
  {
   "cell_type": "code",
   "execution_count": 11,
   "metadata": {
    "colab": {
     "base_uri": "https://localhost:8080/"
    },
    "id": "OBGgt37YUVY9",
    "outputId": "4773a504-94de-4965-8f1c-05f0f4fddc02"
   },
   "outputs": [
    {
     "name": "stdout",
     "output_type": "stream",
     "text": [
      "epoch = 0, loss = 15.339600563049316\n",
      "epoch = 500, loss = 2.023297071456909\n",
      "epoch = 1000, loss = 1.2853883504867554\n",
      "epoch = 1500, loss = 0.5479283928871155\n",
      "epoch = 2000, loss = 0.0375760942697525\n",
      "epoch = 2500, loss = 0.03759327903389931\n",
      "epoch = 3000, loss = 0.03759327903389931\n",
      "epoch = 3500, loss = 0.03759327903389931\n",
      "epoch = 4000, loss = 0.03759327903389931\n",
      "epoch = 4500, loss = 0.03759327903389931\n",
      "epoch = 5000, loss = 0.03759327903389931\n",
      "epoch = 5500, loss = 0.03759327903389931\n",
      "epoch = 6000, loss = 0.03759327903389931\n",
      "epoch = 6500, loss = 0.03759327903389931\n",
      "epoch = 7000, loss = 0.03759327903389931\n",
      "epoch = 7500, loss = 0.03759327903389931\n",
      "epoch = 8000, loss = 0.03759327903389931\n",
      "epoch = 8500, loss = 0.03759327903389931\n",
      "epoch = 9000, loss = 0.03759327903389931\n",
      "epoch = 9500, loss = 0.03759327903389931\n",
      "Wall time: 21.9 s\n"
     ]
    }
   ],
   "source": [
    "%%time\n",
    "# y = 2x^2 + 3x + 5 일 때 x, y 집합을 생성한다\n",
    "x = np.array(np.arange(-5, 5, 0.1))\n",
    "y = 2 * x * x + 3 * x + 5\n",
    "\n",
    "# 그래프를 생성한다.   \n",
    "w1 = tf.Variable(1.0)\n",
    "w2 = tf.Variable(1.0)\n",
    "b = tf.Variable(1.0)\n",
    "var_list = [w1, w2, b]  # variable list\n",
    "\n",
    "# SGD optimizers 기능을 사용하고, Momentum 방법을 사용한다.\n",
    "opt = optimizers.SGD(learning_rate=0.001, momentum = 0.7, nesterov = False)\n",
    "\n",
    "histLoss = []\n",
    "for epoch in range(10000):\n",
    "    with tf.GradientTape() as tape:\n",
    "        loss = tf.sqrt(tf.reduce_mean(tf.square(w1*x*x + w2*x + b - y)))\n",
    "    \n",
    "    grads = tape.gradient(loss, var_list)\n",
    "    opt.apply_gradients(zip(grads, var_list))\n",
    "    \n",
    "    if epoch % 500 == 0:\n",
    "        histLoss.append(loss.numpy())\n",
    "        print(\"epoch = {}, loss = {}\".format(epoch, loss))"
   ]
  },
  {
   "cell_type": "markdown",
   "metadata": {
    "id": "csP6kl58UVY-"
   },
   "source": [
    "## ↳ 전체 걸리는 시간이 더 걸리더라도 수렴하는 속도가 빠르다"
   ]
  },
  {
   "cell_type": "code",
   "execution_count": 12,
   "metadata": {
    "colab": {
     "base_uri": "https://localhost:8080/",
     "height": 403
    },
    "id": "i4Mjp_p-UVY-",
    "outputId": "8f611991-209d-4898-f88c-269f0c0aa3f4"
   },
   "outputs": [
    {
     "name": "stdout",
     "output_type": "stream",
     "text": [
      "\n",
      "추정 결과 :\n",
      "w1 = 2.00\n",
      "w2 = 3.00\n",
      "b = 5.00\n",
      "final loss = 0.0363\n"
     ]
    },
    {
     "data": {
      "image/png": "[encoded data removed]",
      "text/plain": [
       "<Figure size 432x288 with 1 Axes>"
      ]
     },
     "metadata": {
      "needs_background": "light"
     },
     "output_type": "display_data"
    }
   ],
   "source": [
    "print(\"\\n추정 결과 :\")\n",
    "print(\"w1 = %.2f\" % w1.numpy())\n",
    "print(\"w2 = %.2f\" % w2.numpy())\n",
    "print(\"b = %.2f\" % b.numpy())\n",
    "print(\"final loss = %.4f\" % loss.numpy())\n",
    "\n",
    "plt.plot(histLoss, color='red', linewidth=1)\n",
    "plt.title(\"Loss function\")\n",
    "plt.xlabel(\"epoch\")\n",
    "plt.ylabel(\"loss\")\n",
    "plt.show()"
   ]
  },
  {
   "cell_type": "markdown",
   "metadata": {
    "id": "-x_PdAzRUVY_"
   },
   "source": [
    "# Adam + minimize()"
   ]
  },
  {
   "cell_type": "code",
   "execution_count": null,
   "metadata": {
    "id": "4oTrs_shUVY_"
   },
   "outputs": [],
   "source": [
    "import tensorflow as tf\n",
    "from tensorflow.keras import optimizers\n",
    "import numpy as np\n",
    "import matplotlib.pyplot as plt\n",
    "\n",
    "# y = 2x^2 + 3x + 5 일 때 x, y 집합을 생성한다\n",
    "x = np.array(np.arange(-5, 5, 0.1))\n",
    "y = 2 * x * x + 3 * x + 5\n",
    "\n",
    "# 그래프를 생성한다.   \n",
    "w1 = tf.Variable(1.0)\n",
    "w2 = tf.Variable(1.0)\n",
    "b = tf.Variable(1.0)"
   ]
  },
  {
   "cell_type": "code",
   "execution_count": 13,
   "metadata": {
    "colab": {
     "base_uri": "https://localhost:8080/"
    },
    "id": "U2LhwOCwUVY_",
    "outputId": "0be1233a-57ac-4ff4-9a9d-b4c11ce6f763"
   },
   "outputs": [
    {
     "name": "stdout",
     "output_type": "stream",
     "text": [
      "epoch : 0, loss = 0.5833761096000671\n",
      "epoch : 500, loss = 0.032910510897636414\n",
      "epoch : 1000, loss = 0.03279978781938553\n",
      "epoch : 1500, loss = 0.03276091068983078\n",
      "epoch : 2000, loss = 0.03275883570313454\n",
      "epoch : 2500, loss = 0.03273390233516693\n",
      "epoch : 3000, loss = 0.03273883834481239\n",
      "epoch : 3500, loss = 0.032751549035310745\n",
      "epoch : 4000, loss = 0.03275449573993683\n",
      "epoch : 4500, loss = 0.03275714069604874\n",
      "epoch : 5000, loss = 0.03275816887617111\n",
      "epoch : 5500, loss = 0.03276272118091583\n",
      "epoch : 6000, loss = 0.03276502341032028\n",
      "epoch : 6500, loss = 0.03276502341032028\n",
      "epoch : 7000, loss = 0.03276502341032028\n",
      "epoch : 7500, loss = 0.032765116542577744\n",
      "epoch : 8000, loss = 0.0327686108648777\n",
      "epoch : 8500, loss = 0.032801199704408646\n",
      "epoch : 9000, loss = 0.03280602768063545\n",
      "epoch : 9500, loss = 0.032824739813804626\n"
     ]
    }
   ],
   "source": [
    "def loss():\n",
    "    return tf.sqrt(tf.reduce_mean(tf.square(w1*x*x + w2*x + b - y)))\n",
    "\n",
    "opt = optimizers.Adam(learning_rate = 0.05)\n",
    "\n",
    "histLoss = []\n",
    "for epoch in range(10000):\n",
    "    opt.minimize(loss, var_list=[w1, w2, b])\n",
    "    \n",
    "    histLoss.append(loss())\n",
    "    if epoch % 500 == 0:\n",
    "        print(\"epoch : {}, loss = {}\".format(epoch, histLoss[-1]))"
   ]
  },
  {
   "cell_type": "code",
   "execution_count": 14,
   "metadata": {
    "colab": {
     "base_uri": "https://localhost:8080/",
     "height": 385
    },
    "id": "34H6xeEYUVY_",
    "outputId": "95421470-d165-4dfb-da5c-8f352fb8fe12"
   },
   "outputs": [
    {
     "name": "stdout",
     "output_type": "stream",
     "text": [
      "\n",
      "추정 결과 :\n",
      "w1 = 2.00\n",
      "w2 = 3.00\n",
      "b = 5.00\n"
     ]
    },
    {
     "data": {
      "image/png": "[encoded data removed]",
      "text/plain": [
       "<Figure size 432x288 with 1 Axes>"
      ]
     },
     "metadata": {
      "needs_background": "light"
     },
     "output_type": "display_data"
    }
   ],
   "source": [
    "print(\"\\n추정 결과 :\")\n",
    "print(\"w1 = %.2f\" % w1.numpy())\n",
    "print(\"w2 = %.2f\" % w2.numpy())\n",
    "print(\"b = %.2f\" % b.numpy())\n",
    "\n",
    "plt.plot(histLoss, color='red', linewidth=1)\n",
    "plt.title(\"Loss function\")\n",
    "plt.xlabel(\"epoch\")\n",
    "plt.ylabel(\"loss\")\n",
    "plt.show()"
   ]
  },
  {
   "cell_type": "markdown",
   "metadata": {
    "id": "7u9hJ8NVUVZA"
   },
   "source": [
    "# Keras \n",
    "## Sequential model"
   ]
  },
  {
   "cell_type": "code",
   "execution_count": 25,
   "metadata": {
    "colab": {
     "base_uri": "https://localhost:8080/",
     "height": 1000
    },
    "id": "HuujzaL6UVZA",
    "outputId": "2ccde560-25ad-4421-d925-989861000195"
   },
   "outputs": [
    {
     "name": "stdout",
     "output_type": "stream",
     "text": [
      "Epoch 1/300\n",
      "100/100 [==============================] - 0s 670us/sample - loss: 1256.6769\n",
      "Epoch 2/300\n",
      "100/100 [==============================] - 0s 130us/sample - loss: 906.7046\n",
      "Epoch 3/300\n",
      "100/100 [==============================] - 0s 120us/sample - loss: 608.1736\n",
      "Epoch 4/300\n",
      "100/100 [==============================] - 0s 110us/sample - loss: 403.8337\n",
      "Epoch 5/300\n",
      "100/100 [==============================] - 0s 130us/sample - loss: 247.1991\n",
      "Epoch 6/300\n",
      "100/100 [==============================] - 0s 140us/sample - loss: 150.6928\n",
      "Epoch 7/300\n",
      "100/100 [==============================] - 0s 150us/sample - loss: 83.9817\n",
      "Epoch 8/300\n",
      "100/100 [==============================] - 0s 110us/sample - loss: 48.1021\n",
      "Epoch 9/300\n",
      "100/100 [==============================] - 0s 130us/sample - loss: 27.3953\n",
      "Epoch 10/300\n",
      "100/100 [==============================] - 0s 140us/sample - loss: 14.2413\n",
      "Epoch 11/300\n",
      "100/100 [==============================] - 0s 140us/sample - loss: 8.9102\n",
      "Epoch 12/300\n",
      "100/100 [==============================] - 0s 120us/sample - loss: 5.8026\n",
      "Epoch 13/300\n",
      "100/100 [==============================] - 0s 130us/sample - loss: 3.9955\n",
      "Epoch 14/300\n",
      "100/100 [==============================] - 0s 120us/sample - loss: 2.9002\n",
      "Epoch 15/300\n",
      "100/100 [==============================] - 0s 110us/sample - loss: 2.1858\n",
      "Epoch 16/300\n",
      "100/100 [==============================] - 0s 150us/sample - loss: 1.7257\n",
      "Epoch 17/300\n",
      "100/100 [==============================] - 0s 120us/sample - loss: 1.4258\n",
      "Epoch 18/300\n",
      "100/100 [==============================] - 0s 130us/sample - loss: 1.2219\n",
      "Epoch 19/300\n",
      "100/100 [==============================] - 0s 110us/sample - loss: 1.0823\n",
      "Epoch 20/300\n",
      "100/100 [==============================] - 0s 130us/sample - loss: 0.9883\n",
      "Epoch 21/300\n",
      "100/100 [==============================] - 0s 120us/sample - loss: 0.9180\n",
      "Epoch 22/300\n",
      "100/100 [==============================] - 0s 130us/sample - loss: 0.8631\n",
      "Epoch 23/300\n",
      "100/100 [==============================] - 0s 137us/sample - loss: 0.8170\n",
      "Epoch 24/300\n",
      "100/100 [==============================] - 0s 160us/sample - loss: 0.7809\n",
      "Epoch 25/300\n",
      "100/100 [==============================] - 0s 134us/sample - loss: 0.7407\n",
      "Epoch 26/300\n",
      "100/100 [==============================] - 0s 150us/sample - loss: 0.7062\n",
      "Epoch 27/300\n",
      "100/100 [==============================] - 0s 180us/sample - loss: 0.6745\n",
      "Epoch 28/300\n",
      "100/100 [==============================] - 0s 170us/sample - loss: 0.6434\n",
      "Epoch 29/300\n",
      "100/100 [==============================] - 0s 160us/sample - loss: 0.6110\n",
      "Epoch 30/300\n",
      "100/100 [==============================] - 0s 180us/sample - loss: 0.5811\n",
      "Epoch 31/300\n",
      "100/100 [==============================] - 0s 150us/sample - loss: 0.5524\n",
      "Epoch 32/300\n",
      "100/100 [==============================] - 0s 190us/sample - loss: 0.5248\n",
      "Epoch 33/300\n",
      "100/100 [==============================] - 0s 180us/sample - loss: 0.4983\n",
      "Epoch 34/300\n",
      "100/100 [==============================] - 0s 180us/sample - loss: 0.4714\n",
      "Epoch 35/300\n",
      "100/100 [==============================] - 0s 160us/sample - loss: 0.4483\n",
      "Epoch 36/300\n",
      "100/100 [==============================] - 0s 160us/sample - loss: 0.4213\n",
      "Epoch 37/300\n",
      "100/100 [==============================] - 0s 140us/sample - loss: 0.3981\n",
      "Epoch 38/300\n",
      "100/100 [==============================] - 0s 150us/sample - loss: 0.3758\n",
      "Epoch 39/300\n",
      "100/100 [==============================] - 0s 150us/sample - loss: 0.3553\n",
      "Epoch 40/300\n",
      "100/100 [==============================] - 0s 154us/sample - loss: 0.3340\n",
      "Epoch 41/300\n",
      "100/100 [==============================] - 0s 140us/sample - loss: 0.3136\n",
      "Epoch 42/300\n",
      "100/100 [==============================] - 0s 159us/sample - loss: 0.2957\n",
      "Epoch 43/300\n",
      "100/100 [==============================] - 0s 160us/sample - loss: 0.2774\n",
      "Epoch 44/300\n",
      "100/100 [==============================] - 0s 140us/sample - loss: 0.2603\n",
      "Epoch 45/300\n",
      "100/100 [==============================] - 0s 120us/sample - loss: 0.2439\n",
      "Epoch 46/300\n",
      "100/100 [==============================] - 0s 150us/sample - loss: 0.2288\n",
      "Epoch 47/300\n",
      "100/100 [==============================] - 0s 180us/sample - loss: 0.2138\n",
      "Epoch 48/300\n",
      "100/100 [==============================] - 0s 180us/sample - loss: 0.2000\n",
      "Epoch 49/300\n",
      "100/100 [==============================] - 0s 140us/sample - loss: 0.1866\n",
      "Epoch 50/300\n",
      "100/100 [==============================] - 0s 150us/sample - loss: 0.1741\n",
      "Epoch 51/300\n",
      "100/100 [==============================] - 0s 150us/sample - loss: 0.1627\n",
      "Epoch 52/300\n",
      "100/100 [==============================] - 0s 180us/sample - loss: 0.1512\n",
      "Epoch 53/300\n",
      "100/100 [==============================] - 0s 150us/sample - loss: 0.1406\n",
      "Epoch 54/300\n",
      "100/100 [==============================] - 0s 170us/sample - loss: 0.1308\n",
      "Epoch 55/300\n",
      "100/100 [==============================] - 0s 150us/sample - loss: 0.1214\n",
      "Epoch 56/300\n",
      "100/100 [==============================] - 0s 170us/sample - loss: 0.1127\n",
      "Epoch 57/300\n",
      "100/100 [==============================] - 0s 150us/sample - loss: 0.1049\n",
      "Epoch 58/300\n",
      "100/100 [==============================] - 0s 110us/sample - loss: 0.0968\n",
      "Epoch 59/300\n",
      "100/100 [==============================] - 0s 160us/sample - loss: 0.0896\n",
      "Epoch 60/300\n",
      "100/100 [==============================] - 0s 150us/sample - loss: 0.0828\n",
      "Epoch 61/300\n",
      "100/100 [==============================] - 0s 150us/sample - loss: 0.0767\n",
      "Epoch 62/300\n",
      "100/100 [==============================] - 0s 170us/sample - loss: 0.0709\n",
      "Epoch 63/300\n",
      "100/100 [==============================] - 0s 140us/sample - loss: 0.0652\n",
      "Epoch 64/300\n",
      "100/100 [==============================] - 0s 150us/sample - loss: 0.0600\n",
      "Epoch 65/300\n",
      "100/100 [==============================] - 0s 130us/sample - loss: 0.0552\n",
      "Epoch 66/300\n",
      "100/100 [==============================] - 0s 140us/sample - loss: 0.0508\n",
      "Epoch 67/300\n",
      "100/100 [==============================] - 0s 159us/sample - loss: 0.0467\n",
      "Epoch 68/300\n",
      "100/100 [==============================] - 0s 130us/sample - loss: 0.0428\n",
      "Epoch 69/300\n",
      "100/100 [==============================] - 0s 170us/sample - loss: 0.0392\n",
      "Epoch 70/300\n",
      "100/100 [==============================] - 0s 140us/sample - loss: 0.0360\n",
      "Epoch 71/300\n",
      "100/100 [==============================] - 0s 140us/sample - loss: 0.0331\n",
      "Epoch 72/300\n",
      "100/100 [==============================] - 0s 130us/sample - loss: 0.0301\n",
      "Epoch 73/300\n",
      "100/100 [==============================] - 0s 141us/sample - loss: 0.0276\n",
      "Epoch 74/300\n",
      "100/100 [==============================] - 0s 120us/sample - loss: 0.0250\n",
      "Epoch 75/300\n",
      "100/100 [==============================] - 0s 130us/sample - loss: 0.0230\n",
      "Epoch 76/300\n",
      "100/100 [==============================] - 0s 130us/sample - loss: 0.0209\n",
      "Epoch 77/300\n",
      "100/100 [==============================] - 0s 120us/sample - loss: 0.0190\n",
      "Epoch 78/300\n",
      "100/100 [==============================] - 0s 140us/sample - loss: 0.0173\n",
      "Epoch 79/300\n",
      "100/100 [==============================] - 0s 130us/sample - loss: 0.0157\n",
      "Epoch 80/300\n",
      "100/100 [==============================] - 0s 152us/sample - loss: 0.0142\n",
      "Epoch 81/300\n",
      "100/100 [==============================] - 0s 110us/sample - loss: 0.0129\n",
      "Epoch 82/300\n",
      "100/100 [==============================] - 0s 110us/sample - loss: 0.0118\n",
      "Epoch 83/300\n",
      "100/100 [==============================] - 0s 120us/sample - loss: 0.0106\n",
      "Epoch 84/300\n",
      "100/100 [==============================] - 0s 150us/sample - loss: 0.0096\n",
      "Epoch 85/300\n",
      "100/100 [==============================] - 0s 150us/sample - loss: 0.0086\n",
      "Epoch 86/300\n",
      "100/100 [==============================] - 0s 130us/sample - loss: 0.0078\n",
      "Epoch 87/300\n",
      "100/100 [==============================] - 0s 135us/sample - loss: 0.0070\n",
      "Epoch 88/300\n",
      "100/100 [==============================] - 0s 150us/sample - loss: 0.0063\n",
      "Epoch 89/300\n",
      "100/100 [==============================] - 0s 140us/sample - loss: 0.0057\n",
      "Epoch 90/300\n",
      "100/100 [==============================] - 0s 140us/sample - loss: 0.0051\n",
      "Epoch 91/300\n",
      "100/100 [==============================] - 0s 170us/sample - loss: 0.0046\n",
      "Epoch 92/300\n",
      "100/100 [==============================] - 0s 150us/sample - loss: 0.0042\n",
      "Epoch 93/300\n",
      "100/100 [==============================] - 0s 150us/sample - loss: 0.0037\n",
      "Epoch 94/300\n",
      "100/100 [==============================] - 0s 120us/sample - loss: 0.0033\n",
      "Epoch 95/300\n"
     ]
    },
    {
     "name": "stdout",
     "output_type": "stream",
     "text": [
      "100/100 [==============================] - 0s 110us/sample - loss: 0.0030\n",
      "Epoch 96/300\n",
      "100/100 [==============================] - 0s 150us/sample - loss: 0.0027\n",
      "Epoch 97/300\n",
      "100/100 [==============================] - 0s 170us/sample - loss: 0.0024\n",
      "Epoch 98/300\n",
      "100/100 [==============================] - 0s 140us/sample - loss: 0.0021\n",
      "Epoch 99/300\n",
      "100/100 [==============================] - 0s 160us/sample - loss: 0.0019\n",
      "Epoch 100/300\n",
      "100/100 [==============================] - 0s 130us/sample - loss: 0.0017\n",
      "Epoch 101/300\n",
      "100/100 [==============================] - 0s 160us/sample - loss: 0.0015\n",
      "Epoch 102/300\n",
      "100/100 [==============================] - 0s 170us/sample - loss: 0.0013\n",
      "Epoch 103/300\n",
      "100/100 [==============================] - 0s 130us/sample - loss: 0.0012\n",
      "Epoch 104/300\n",
      "100/100 [==============================] - 0s 150us/sample - loss: 0.0010\n",
      "Epoch 105/300\n",
      "100/100 [==============================] - 0s 140us/sample - loss: 9.2924e-04\n",
      "Epoch 106/300\n",
      "100/100 [==============================] - 0s 150us/sample - loss: 8.2456e-04\n",
      "Epoch 107/300\n",
      "100/100 [==============================] - 0s 155us/sample - loss: 7.2635e-04\n",
      "Epoch 108/300\n",
      "100/100 [==============================] - 0s 150us/sample - loss: 6.4236e-04\n",
      "Epoch 109/300\n",
      "100/100 [==============================] - 0s 120us/sample - loss: 5.6678e-04\n",
      "Epoch 110/300\n",
      "100/100 [==============================] - 0s 140us/sample - loss: 5.0170e-04\n",
      "Epoch 111/300\n",
      "100/100 [==============================] - 0s 150us/sample - loss: 4.3920e-04\n",
      "Epoch 112/300\n",
      "100/100 [==============================] - 0s 165us/sample - loss: 3.8883e-04\n",
      "Epoch 113/300\n",
      "100/100 [==============================] - 0s 150us/sample - loss: 3.3997e-04\n",
      "Epoch 114/300\n",
      "100/100 [==============================] - 0s 120us/sample - loss: 3.0025e-04\n",
      "Epoch 115/300\n",
      "100/100 [==============================] - 0s 160us/sample - loss: 2.6159e-04\n",
      "Epoch 116/300\n",
      "100/100 [==============================] - 0s 160us/sample - loss: 2.3191e-04\n",
      "Epoch 117/300\n",
      "100/100 [==============================] - 0s 150us/sample - loss: 2.0136e-04\n",
      "Epoch 118/300\n",
      "100/100 [==============================] - 0s 140us/sample - loss: 1.7629e-04\n",
      "Epoch 119/300\n",
      "100/100 [==============================] - 0s 150us/sample - loss: 1.5419e-04\n",
      "Epoch 120/300\n",
      "100/100 [==============================] - 0s 110us/sample - loss: 1.3418e-04\n",
      "Epoch 121/300\n",
      "100/100 [==============================] - 0s 150us/sample - loss: 1.1689e-04\n",
      "Epoch 122/300\n",
      "100/100 [==============================] - 0s 140us/sample - loss: 1.0218e-04\n",
      "Epoch 123/300\n",
      "100/100 [==============================] - 0s 162us/sample - loss: 8.8510e-05\n",
      "Epoch 124/300\n",
      "100/100 [==============================] - 0s 130us/sample - loss: 7.7026e-05\n",
      "Epoch 125/300\n",
      "100/100 [==============================] - 0s 180us/sample - loss: 6.6606e-05\n",
      "Epoch 126/300\n",
      "100/100 [==============================] - 0s 140us/sample - loss: 5.8402e-05\n",
      "Epoch 127/300\n",
      "100/100 [==============================] - 0s 180us/sample - loss: 4.9867e-05\n",
      "Epoch 128/300\n",
      "100/100 [==============================] - 0s 120us/sample - loss: 4.3622e-05\n",
      "Epoch 129/300\n",
      "100/100 [==============================] - 0s 140us/sample - loss: 3.7441e-05\n",
      "Epoch 130/300\n",
      "100/100 [==============================] - 0s 130us/sample - loss: 3.2360e-05\n",
      "Epoch 131/300\n",
      "100/100 [==============================] - 0s 160us/sample - loss: 2.8145e-05\n",
      "Epoch 132/300\n",
      "100/100 [==============================] - 0s 120us/sample - loss: 2.3915e-05\n",
      "Epoch 133/300\n",
      "100/100 [==============================] - 0s 160us/sample - loss: 2.0677e-05\n",
      "Epoch 134/300\n",
      "100/100 [==============================] - 0s 130us/sample - loss: 1.7775e-05\n",
      "Epoch 135/300\n",
      "100/100 [==============================] - 0s 120us/sample - loss: 1.5370e-05\n",
      "Epoch 136/300\n",
      "100/100 [==============================] - 0s 160us/sample - loss: 1.2987e-05\n",
      "Epoch 137/300\n",
      "100/100 [==============================] - 0s 130us/sample - loss: 1.1222e-05\n",
      "Epoch 138/300\n",
      "100/100 [==============================] - 0s 170us/sample - loss: 9.6648e-06\n",
      "Epoch 139/300\n",
      "100/100 [==============================] - 0s 190us/sample - loss: 8.1764e-06\n",
      "Epoch 140/300\n",
      "100/100 [==============================] - 0s 140us/sample - loss: 7.0129e-06\n",
      "Epoch 141/300\n",
      "100/100 [==============================] - 0s 130us/sample - loss: 5.9487e-06\n",
      "Epoch 142/300\n",
      "100/100 [==============================] - 0s 150us/sample - loss: 5.1013e-06\n",
      "Epoch 143/300\n",
      "100/100 [==============================] - 0s 160us/sample - loss: 4.3197e-06\n",
      "Epoch 144/300\n",
      "100/100 [==============================] - 0s 170us/sample - loss: 3.6760e-06\n",
      "Epoch 145/300\n",
      "100/100 [==============================] - 0s 170us/sample - loss: 3.1168e-06\n",
      "Epoch 146/300\n",
      "100/100 [==============================] - 0s 115us/sample - loss: 2.6671e-06\n",
      "Epoch 147/300\n",
      "100/100 [==============================] - 0s 160us/sample - loss: 2.2442e-06\n",
      "Epoch 148/300\n",
      "100/100 [==============================] - 0s 140us/sample - loss: 1.8998e-06\n",
      "Epoch 149/300\n",
      "100/100 [==============================] - 0s 150us/sample - loss: 1.6092e-06\n",
      "Epoch 150/300\n",
      "100/100 [==============================] - 0s 150us/sample - loss: 1.3448e-06\n",
      "Epoch 151/300\n",
      "100/100 [==============================] - 0s 160us/sample - loss: 1.1431e-06\n",
      "Epoch 152/300\n",
      "100/100 [==============================] - 0s 130us/sample - loss: 9.6502e-07\n",
      "Epoch 153/300\n",
      "100/100 [==============================] - 0s 175us/sample - loss: 8.0315e-07\n",
      "Epoch 154/300\n",
      "100/100 [==============================] - 0s 140us/sample - loss: 6.7780e-07\n",
      "Epoch 155/300\n",
      "100/100 [==============================] - 0s 140us/sample - loss: 5.6933e-07\n",
      "Epoch 156/300\n",
      "100/100 [==============================] - 0s 140us/sample - loss: 4.7609e-07\n",
      "Epoch 157/300\n",
      "100/100 [==============================] - 0s 120us/sample - loss: 3.9907e-07\n",
      "Epoch 158/300\n",
      "100/100 [==============================] - 0s 130us/sample - loss: 3.3321e-07\n",
      "Epoch 159/300\n",
      "100/100 [==============================] - 0s 120us/sample - loss: 2.7922e-07\n",
      "Epoch 160/300\n",
      "100/100 [==============================] - 0s 150us/sample - loss: 2.3144e-07\n",
      "Epoch 161/300\n",
      "100/100 [==============================] - 0s 130us/sample - loss: 1.9202e-07\n",
      "Epoch 162/300\n",
      "100/100 [==============================] - 0s 120us/sample - loss: 1.5943e-07\n",
      "Epoch 163/300\n",
      "100/100 [==============================] - 0s 130us/sample - loss: 1.3223e-07\n",
      "Epoch 164/300\n",
      "100/100 [==============================] - 0s 180us/sample - loss: 1.0957e-07\n",
      "Epoch 165/300\n",
      "100/100 [==============================] - 0s 150us/sample - loss: 9.1365e-08\n",
      "Epoch 166/300\n",
      "100/100 [==============================] - 0s 160us/sample - loss: 7.5198e-08\n",
      "Epoch 167/300\n",
      "100/100 [==============================] - 0s 160us/sample - loss: 6.2825e-08\n",
      "Epoch 168/300\n",
      "100/100 [==============================] - 0s 160us/sample - loss: 5.1910e-08\n",
      "Epoch 169/300\n",
      "100/100 [==============================] - 0s 160us/sample - loss: 4.2632e-08\n",
      "Epoch 170/300\n",
      "100/100 [==============================] - 0s 140us/sample - loss: 3.4982e-08\n",
      "Epoch 171/300\n",
      "100/100 [==============================] - 0s 120us/sample - loss: 2.8515e-08\n",
      "Epoch 172/300\n",
      "100/100 [==============================] - 0s 133us/sample - loss: 2.3704e-08\n",
      "Epoch 173/300\n",
      "100/100 [==============================] - 0s 160us/sample - loss: 1.9205e-08\n",
      "Epoch 174/300\n",
      "100/100 [==============================] - 0s 150us/sample - loss: 1.5690e-08\n",
      "Epoch 175/300\n",
      "100/100 [==============================] - 0s 140us/sample - loss: 1.2769e-08\n",
      "Epoch 176/300\n",
      "100/100 [==============================] - 0s 130us/sample - loss: 1.0430e-08\n",
      "Epoch 177/300\n",
      "100/100 [==============================] - 0s 150us/sample - loss: 8.5808e-09\n",
      "Epoch 178/300\n",
      "100/100 [==============================] - 0s 130us/sample - loss: 7.0104e-09\n",
      "Epoch 179/300\n",
      "100/100 [==============================] - 0s 134us/sample - loss: 5.8609e-09\n",
      "Epoch 180/300\n",
      "100/100 [==============================] - 0s 110us/sample - loss: 4.6977e-09\n",
      "Epoch 181/300\n",
      "100/100 [==============================] - 0s 140us/sample - loss: 3.8859e-09\n",
      "Epoch 182/300\n",
      "100/100 [==============================] - 0s 130us/sample - loss: 3.1989e-09\n",
      "Epoch 183/300\n",
      "100/100 [==============================] - 0s 120us/sample - loss: 2.4374e-09\n",
      "Epoch 184/300\n",
      "100/100 [==============================] - 0s 146us/sample - loss: 1.9238e-09\n",
      "Epoch 185/300\n",
      "100/100 [==============================] - 0s 130us/sample - loss: 1.6415e-09\n",
      "Epoch 186/300\n",
      "100/100 [==============================] - 0s 130us/sample - loss: 1.3483e-09\n",
      "Epoch 187/300\n",
      "100/100 [==============================] - 0s 140us/sample - loss: 1.1355e-09\n",
      "Epoch 188/300\n",
      "100/100 [==============================] - 0s 110us/sample - loss: 9.5351e-10\n",
      "Epoch 189/300\n",
      "100/100 [==============================] - 0s 130us/sample - loss: 7.5669e-10\n",
      "Epoch 190/300\n",
      "100/100 [==============================] - 0s 130us/sample - loss: 6.0130e-10\n",
      "Epoch 191/300\n",
      "100/100 [==============================] - 0s 130us/sample - loss: 4.5931e-10\n",
      "Epoch 192/300\n",
      "100/100 [==============================] - 0s 120us/sample - loss: 3.2895e-10\n",
      "Epoch 193/300\n",
      "100/100 [==============================] - 0s 110us/sample - loss: 2.9637e-10\n",
      "Epoch 194/300\n",
      "100/100 [==============================] - 0s 120us/sample - loss: 2.7585e-10\n",
      "Epoch 195/300\n",
      "100/100 [==============================] - 0s 120us/sample - loss: 2.5663e-10\n",
      "Epoch 196/300\n",
      "100/100 [==============================] - 0s 170us/sample - loss: 2.4855e-10\n",
      "Epoch 197/300\n",
      "100/100 [==============================] - 0s 150us/sample - loss: 2.4525e-10\n",
      "Epoch 198/300\n",
      "100/100 [==============================] - 0s 120us/sample - loss: 2.1807e-10\n",
      "Epoch 199/300\n",
      "100/100 [==============================] - 0s 130us/sample - loss: 2.0811e-10\n",
      "Epoch 200/300\n",
      "100/100 [==============================] - 0s 149us/sample - loss: 2.0811e-10\n",
      "Epoch 201/300\n",
      "100/100 [==============================] - 0s 125us/sample - loss: 2.0811e-10\n",
      "Epoch 202/300\n",
      "100/100 [==============================] - 0s 132us/sample - loss: 2.0811e-10\n",
      "Epoch 203/300\n",
      "100/100 [==============================] - 0s 120us/sample - loss: 2.0811e-10\n",
      "Epoch 204/300\n",
      "100/100 [==============================] - 0s 130us/sample - loss: 2.0811e-10\n",
      "Epoch 205/300\n",
      "100/100 [==============================] - 0s 100us/sample - loss: 2.0811e-10\n",
      "Epoch 206/300\n",
      "100/100 [==============================] - 0s 140us/sample - loss: 2.0811e-10\n",
      "Epoch 207/300\n",
      "100/100 [==============================] - 0s 140us/sample - loss: 2.0811e-10\n",
      "Epoch 208/300\n",
      "100/100 [==============================] - 0s 150us/sample - loss: 2.0811e-10\n",
      "Epoch 209/300\n",
      "100/100 [==============================] - 0s 140us/sample - loss: 2.0811e-10\n",
      "Epoch 210/300\n",
      "100/100 [==============================] - 0s 130us/sample - loss: 2.0811e-10\n",
      "Epoch 211/300\n",
      "100/100 [==============================] - 0s 150us/sample - loss: 2.0811e-10\n",
      "Epoch 212/300\n",
      "100/100 [==============================] - 0s 130us/sample - loss: 2.0811e-10\n",
      "Epoch 213/300\n",
      "100/100 [==============================] - 0s 150us/sample - loss: 2.0811e-10\n",
      "Epoch 214/300\n",
      "100/100 [==============================] - 0s 140us/sample - loss: 2.0811e-10\n",
      "Epoch 215/300\n",
      "100/100 [==============================] - 0s 120us/sample - loss: 2.0811e-10\n",
      "Epoch 216/300\n",
      "100/100 [==============================] - 0s 120us/sample - loss: 2.0811e-10\n",
      "Epoch 217/300\n",
      "100/100 [==============================] - 0s 110us/sample - loss: 2.0811e-10\n",
      "Epoch 218/300\n",
      "100/100 [==============================] - 0s 130us/sample - loss: 2.0811e-10\n",
      "Epoch 219/300\n",
      "100/100 [==============================] - 0s 110us/sample - loss: 2.0811e-10\n",
      "Epoch 220/300\n",
      "100/100 [==============================] - 0s 130us/sample - loss: 2.0811e-10\n",
      "Epoch 221/300\n",
      "100/100 [==============================] - 0s 150us/sample - loss: 2.0811e-10\n",
      "Epoch 222/300\n",
      "100/100 [==============================] - 0s 130us/sample - loss: 2.0971e-10\n",
      "Epoch 223/300\n",
      "100/100 [==============================] - 0s 100us/sample - loss: 2.0735e-10\n",
      "Epoch 224/300\n",
      "100/100 [==============================] - 0s 170us/sample - loss: 2.0735e-10\n",
      "Epoch 225/300\n",
      "100/100 [==============================] - 0s 130us/sample - loss: 2.0735e-10\n",
      "Epoch 226/300\n",
      "100/100 [==============================] - 0s 110us/sample - loss: 2.0735e-10\n",
      "Epoch 227/300\n",
      "100/100 [==============================] - ETA: 0s - loss: 2.4331e-1 - 0s 120us/sample - loss: 2.0735e-10\n",
      "Epoch 228/300\n",
      "100/100 [==============================] - 0s 140us/sample - loss: 2.0735e-10\n",
      "Epoch 229/300\n",
      "100/100 [==============================] - 0s 140us/sample - loss: 2.0265e-10\n",
      "Epoch 230/300\n",
      "100/100 [==============================] - 0s 120us/sample - loss: 1.9009e-10\n",
      "Epoch 231/300\n",
      "100/100 [==============================] - 0s 140us/sample - loss: 1.8118e-10\n",
      "Epoch 232/300\n",
      "100/100 [==============================] - 0s 120us/sample - loss: 1.4559e-10\n",
      "Epoch 233/300\n",
      "100/100 [==============================] - 0s 170us/sample - loss: 1.3998e-10\n",
      "Epoch 234/300\n",
      "100/100 [==============================] - 0s 100us/sample - loss: 1.3998e-10\n",
      "Epoch 235/300\n",
      "100/100 [==============================] - 0s 120us/sample - loss: 1.3998e-10\n",
      "Epoch 236/300\n",
      "100/100 [==============================] - 0s 120us/sample - loss: 1.3998e-10\n",
      "Epoch 237/300\n",
      "100/100 [==============================] - 0s 110us/sample - loss: 1.3998e-10\n",
      "Epoch 238/300\n",
      "100/100 [==============================] - 0s 100us/sample - loss: 1.3998e-10\n",
      "Epoch 239/300\n",
      "100/100 [==============================] - 0s 153us/sample - loss: 1.3998e-10\n",
      "Epoch 240/300\n",
      "100/100 [==============================] - 0s 130us/sample - loss: 1.3998e-10\n",
      "Epoch 241/300\n",
      "100/100 [==============================] - 0s 140us/sample - loss: 1.3998e-10\n",
      "Epoch 242/300\n",
      "100/100 [==============================] - 0s 100us/sample - loss: 1.3998e-10\n",
      "Epoch 243/300\n",
      "100/100 [==============================] - 0s 140us/sample - loss: 1.3998e-10\n",
      "Epoch 244/300\n",
      "100/100 [==============================] - 0s 120us/sample - loss: 1.3998e-10\n",
      "Epoch 245/300\n",
      "100/100 [==============================] - 0s 140us/sample - loss: 1.3998e-10\n",
      "Epoch 246/300\n",
      "100/100 [==============================] - 0s 120us/sample - loss: 1.4128e-10\n",
      "Epoch 247/300\n",
      "100/100 [==============================] - 0s 140us/sample - loss: 1.3321e-10\n",
      "Epoch 248/300\n",
      "100/100 [==============================] - 0s 140us/sample - loss: 1.3129e-10\n",
      "Epoch 249/300\n",
      "100/100 [==============================] - 0s 130us/sample - loss: 1.2209e-10\n",
      "Epoch 250/300\n",
      "100/100 [==============================] - 0s 120us/sample - loss: 1.1626e-10\n",
      "Epoch 251/300\n",
      "100/100 [==============================] - 0s 130us/sample - loss: 1.1626e-10\n",
      "Epoch 252/300\n",
      "100/100 [==============================] - 0s 120us/sample - loss: 1.1626e-10\n",
      "Epoch 253/300\n",
      "100/100 [==============================] - 0s 120us/sample - loss: 1.1626e-10\n",
      "Epoch 254/300\n",
      "100/100 [==============================] - 0s 130us/sample - loss: 1.1626e-10\n",
      "Epoch 255/300\n",
      "100/100 [==============================] - 0s 130us/sample - loss: 1.1626e-10\n",
      "Epoch 256/300\n",
      "100/100 [==============================] - 0s 160us/sample - loss: 1.1626e-10\n",
      "Epoch 257/300\n",
      "100/100 [==============================] - 0s 120us/sample - loss: 1.1626e-10\n",
      "Epoch 258/300\n",
      "100/100 [==============================] - 0s 114us/sample - loss: 1.1626e-10\n",
      "Epoch 259/300\n",
      "100/100 [==============================] - 0s 120us/sample - loss: 1.1626e-10\n",
      "Epoch 260/300\n",
      "100/100 [==============================] - 0s 140us/sample - loss: 1.1626e-10\n",
      "Epoch 261/300\n",
      "100/100 [==============================] - 0s 120us/sample - loss: 1.1626e-10\n",
      "Epoch 262/300\n",
      "100/100 [==============================] - 0s 130us/sample - loss: 1.1626e-10\n",
      "Epoch 263/300\n",
      "100/100 [==============================] - 0s 140us/sample - loss: 1.1626e-10\n",
      "Epoch 264/300\n",
      "100/100 [==============================] - 0s 120us/sample - loss: 1.1626e-10\n",
      "Epoch 265/300\n",
      "100/100 [==============================] - 0s 140us/sample - loss: 1.1626e-10\n",
      "Epoch 266/300\n",
      "100/100 [==============================] - 0s 130us/sample - loss: 1.1626e-10\n",
      "Epoch 267/300\n",
      "100/100 [==============================] - 0s 120us/sample - loss: 1.1626e-10\n",
      "Epoch 268/300\n",
      "100/100 [==============================] - 0s 110us/sample - loss: 1.1626e-10\n",
      "Epoch 269/300\n",
      "100/100 [==============================] - 0s 120us/sample - loss: 1.1626e-10\n",
      "Epoch 270/300\n",
      "100/100 [==============================] - 0s 150us/sample - loss: 1.1626e-10\n",
      "Epoch 271/300\n",
      "100/100 [==============================] - 0s 154us/sample - loss: 1.1626e-10\n",
      "Epoch 272/300\n"
     ]
    },
    {
     "name": "stdout",
     "output_type": "stream",
     "text": [
      "100/100 [==============================] - 0s 140us/sample - loss: 1.1626e-10\n",
      "Epoch 273/300\n",
      "100/100 [==============================] - 0s 139us/sample - loss: 1.1626e-10\n",
      "Epoch 274/300\n",
      "100/100 [==============================] - 0s 130us/sample - loss: 1.1626e-10\n",
      "Epoch 275/300\n",
      "100/100 [==============================] - 0s 130us/sample - loss: 1.1181e-10\n",
      "Epoch 276/300\n",
      "100/100 [==============================] - 0s 120us/sample - loss: 1.0865e-10\n",
      "Epoch 277/300\n",
      "100/100 [==============================] - 0s 100us/sample - loss: 1.0429e-10\n",
      "Epoch 278/300\n",
      "100/100 [==============================] - 0s 164us/sample - loss: 1.0429e-10\n",
      "Epoch 279/300\n",
      "100/100 [==============================] - 0s 120us/sample - loss: 1.0429e-10\n",
      "Epoch 280/300\n",
      "100/100 [==============================] - 0s 130us/sample - loss: 1.0429e-10\n",
      "Epoch 281/300\n",
      "100/100 [==============================] - 0s 130us/sample - loss: 1.0429e-10\n",
      "Epoch 282/300\n",
      "100/100 [==============================] - 0s 120us/sample - loss: 1.0429e-10\n",
      "Epoch 283/300\n",
      "100/100 [==============================] - 0s 120us/sample - loss: 1.0429e-10\n",
      "Epoch 284/300\n",
      "100/100 [==============================] - 0s 120us/sample - loss: 1.0429e-10\n",
      "Epoch 285/300\n",
      "100/100 [==============================] - 0s 180us/sample - loss: 1.0429e-10\n",
      "Epoch 286/300\n",
      "100/100 [==============================] - 0s 130us/sample - loss: 1.0429e-10\n",
      "Epoch 287/300\n",
      "100/100 [==============================] - 0s 110us/sample - loss: 1.0429e-10\n",
      "Epoch 288/300\n",
      "100/100 [==============================] - 0s 140us/sample - loss: 1.0429e-10\n",
      "Epoch 289/300\n",
      "100/100 [==============================] - 0s 140us/sample - loss: 1.0429e-10\n",
      "Epoch 290/300\n",
      "100/100 [==============================] - 0s 130us/sample - loss: 1.0429e-10\n",
      "Epoch 291/300\n",
      "100/100 [==============================] - 0s 110us/sample - loss: 1.0429e-10\n",
      "Epoch 292/300\n",
      "100/100 [==============================] - 0s 119us/sample - loss: 1.0093e-10\n",
      "Epoch 293/300\n",
      "100/100 [==============================] - 0s 140us/sample - loss: 9.7627e-11\n",
      "Epoch 294/300\n",
      "100/100 [==============================] - 0s 105us/sample - loss: 9.7627e-11\n",
      "Epoch 295/300\n",
      "100/100 [==============================] - 0s 160us/sample - loss: 9.7627e-11\n",
      "Epoch 296/300\n",
      "100/100 [==============================] - 0s 120us/sample - loss: 9.7627e-11\n",
      "Epoch 297/300\n",
      "100/100 [==============================] - 0s 263us/sample - loss: 9.7627e-11\n",
      "Epoch 298/300\n",
      "100/100 [==============================] - 0s 140us/sample - loss: 9.7627e-11\n",
      "Epoch 299/300\n",
      "100/100 [==============================] - 0s 160us/sample - loss: 9.7627e-11\n",
      "Epoch 300/300\n",
      "100/100 [==============================] - 0s 120us/sample - loss: 9.7627e-11\n",
      "\n",
      "추정 결과 :\n",
      "w1 = 2.00\n",
      "w2 = 3.00\n",
      "b = 5.00\n"
     ]
    },
    {
     "data": {
      "image/png": "[encoded data removed]",
      "text/plain": [
       "<Figure size 432x288 with 1 Axes>"
      ]
     },
     "metadata": {
      "needs_background": "light"
     },
     "output_type": "display_data"
    }
   ],
   "source": [
    "from tensorflow.keras.layers import Dense\n",
    "from tensorflow.keras.models import Sequential\n",
    "from tensorflow.keras import optimizers\n",
    "import numpy as np\n",
    "import matplotlib.pyplot as plt\n",
    "\n",
    "# y = 2x^2 + 3x + 5 일 때 x, y 집합을 생성한다\n",
    "x = np.array(np.arange(-5, 5, 0.1))\n",
    "y = 2 * x * x + 3 * x + 5\n",
    "dataX = np.stack([x*x, x]).T\n",
    "\n",
    "# 그래프를 생성한다.\n",
    "model = Sequential()\n",
    "model.add(Dense(1, input_dim = 2))\n",
    "model.compile(loss='mse', optimizer=optimizers.Adam(lr=0.05))\n",
    "\n",
    "h = model.fit(dataX, y, batch_size=10, epochs = 300)\n",
    "\n",
    "# 학습 결과를 확인한다.\n",
    "parameters = model.layers[0].get_weights()\n",
    "print(\"\\n추정 결과 :\")\n",
    "print(\"w1 = %.2f\" % parameters[0][0][0])\n",
    "print(\"w2 = %.2f\" % parameters[0][1][0])\n",
    "print(\"b = %.2f\" % parameters[1][0])\n",
    "\n",
    "plt.plot(h.history['loss'], color='red', linewidth=1)\n",
    "plt.title(\"Loss function\")\n",
    "plt.xlabel(\"epoch\")\n",
    "plt.ylabel(\"loss\")\n",
    "plt.show()"
   ]
  },
  {
   "cell_type": "code",
   "execution_count": 26,
   "metadata": {},
   "outputs": [
    {
     "name": "stdout",
     "output_type": "stream",
     "text": [
      "Model: \"sequential_3\"\n",
      "_________________________________________________________________\n",
      "Layer (type)                 Output Shape              Param #   \n",
      "=================================================================\n",
      "dense_6 (Dense)              (None, 1)                 3         \n",
      "=================================================================\n",
      "Total params: 3\n",
      "Trainable params: 3\n",
      "Non-trainable params: 0\n",
      "_________________________________________________________________\n"
     ]
    }
   ],
   "source": [
    "model.summary()"
   ]
  },
  {
   "cell_type": "markdown",
   "metadata": {
    "id": "JRSj_kYqUVZB"
   },
   "source": [
    "## Functional API"
   ]
  },
  {
   "cell_type": "code",
   "execution_count": 27,
   "metadata": {
    "colab": {
     "base_uri": "https://localhost:8080/",
     "height": 1000
    },
    "id": "GreHY69KUVZB",
    "outputId": "22587bbb-cfa2-4f39-97e8-c5d468cbdab5"
   },
   "outputs": [
    {
     "name": "stdout",
     "output_type": "stream",
     "text": [
      "\n",
      "추정 결과 :\n",
      "w1 = 1.99\n",
      "w2 = 2.88\n",
      "b = 4.98\n"
     ]
    },
    {
     "data": {
      "image/png": "[encoded data removed]",
      "text/plain": [
       "<Figure size 432x288 with 1 Axes>"
      ]
     },
     "metadata": {
      "needs_background": "light"
     },
     "output_type": "display_data"
    }
   ],
   "source": [
    "from tensorflow.keras.layers import Input, Dense\n",
    "from tensorflow.keras.models import Model\n",
    "from tensorflow.keras import optimizers\n",
    "import numpy as np\n",
    "import matplotlib.pyplot as plt\n",
    "\n",
    "# y = 2x^2 + 3x + 5 일 때 x, y 집합을 생성한다\n",
    "x = np.array(np.arange(-5, 5, 0.1))\n",
    "y = 2 * x * x + 3 * x + 5\n",
    "dataX = np.stack([x*x, x]).T\n",
    "\n",
    "# 그래프를 생성한다.   \n",
    "xInput = Input(batch_shape = (None, dataX.shape[1]))\n",
    "yOutput = Dense(1)(xInput)\n",
    "\n",
    "model = Model(xInput, yOutput)\n",
    "model.compile(loss='mse', optimizer = optimizers.Adam(lr=0.05))\n",
    "\n",
    "h = model.fit(dataX, y, batch_size=10, epochs = 1000, verbose = 0)\n",
    "\n",
    "# 학습 결과를 확인한다.\n",
    "parameters = model.layers[1].get_weights()\n",
    "print(\"\\n추정 결과 :\")\n",
    "print(\"w1 = %.2f\" % parameters[0][0][0])\n",
    "print(\"w2 = %.2f\" % parameters[0][1][0])\n",
    "print(\"b = %.2f\" % parameters[1][0])\n",
    "\n",
    "plt.plot(h.history['loss'], color='red', linewidth=1)\n",
    "plt.title(\"Loss function\")\n",
    "plt.xlabel(\"epoch\")\n",
    "plt.ylabel(\"loss\")\n",
    "plt.show()"
   ]
  },
  {
   "cell_type": "code",
   "execution_count": 28,
   "metadata": {},
   "outputs": [
    {
     "name": "stdout",
     "output_type": "stream",
     "text": [
      "Model: \"model_3\"\n",
      "_________________________________________________________________\n",
      "Layer (type)                 Output Shape              Param #   \n",
      "=================================================================\n",
      "input_4 (InputLayer)         [(None, 2)]               0         \n",
      "_________________________________________________________________\n",
      "dense_7 (Dense)              (None, 1)                 3         \n",
      "=================================================================\n",
      "Total params: 3\n",
      "Trainable params: 3\n",
      "Non-trainable params: 0\n",
      "_________________________________________________________________\n"
     ]
    }
   ],
   "source": [
    "model.summary()"
   ]
  },
  {
   "cell_type": "markdown",
   "metadata": {
    "id": "u5TMzq2QUVZB"
   },
   "source": [
    "# tensorflow 1.4로 iris 분류"
   ]
  },
  {
   "cell_type": "code",
   "execution_count": 29,
   "metadata": {
    "colab": {
     "base_uri": "https://localhost:8080/"
    },
    "id": "Zc5vfrCgUVZB",
    "outputId": "98b3913c-396a-4642-c107-8163f4927a9b"
   },
   "outputs": [
    {
     "name": "stdout",
     "output_type": "stream",
     "text": [
      "WARNING:tensorflow:From C:\\Users\\andyj\\anaconda3\\envs\\abangues\\lib\\site-packages\\tensorflow\\python\\compat\\v2_compat.py:61: disable_resource_variables (from tensorflow.python.ops.variable_scope) is deprecated and will be removed in a future version.\n",
      "Instructions for updating:\n",
      "non-resource variables are not supported in the long term\n"
     ]
    }
   ],
   "source": [
    "import tensorflow.compat.v1 as tf\n",
    "tf.disable_v2_behavior()"
   ]
  },
  {
   "cell_type": "code",
   "execution_count": 30,
   "metadata": {
    "id": "xFB4RXdIUVZC"
   },
   "outputs": [],
   "source": [
    "import numpy as np\n",
    "import pandas as pd\n",
    "from sklearn import datasets"
   ]
  },
  {
   "cell_type": "code",
   "execution_count": 31,
   "metadata": {
    "id": "59u6ehyDUVZC"
   },
   "outputs": [],
   "source": [
    "iris = datasets.load_iris()\n",
    "iris_X = iris.data\n",
    "iris_y = pd.get_dummies(iris.target).to_numpy()"
   ]
  },
  {
   "cell_type": "code",
   "execution_count": 32,
   "metadata": {
    "id": "QNaVEl9pUVZC"
   },
   "outputs": [],
   "source": [
    "from sklearn.model_selection import train_test_split\n",
    "train_X, test_X, train_y, test_y = train_test_split(iris_X, iris_y, \n",
    "                                                    test_size=0.3,\n",
    "                                                    random_state=1)"
   ]
  },
  {
   "cell_type": "code",
   "execution_count": 33,
   "metadata": {
    "id": "XYRgUGfPUVZC"
   },
   "outputs": [],
   "source": [
    "# X와 y를 저장할 변수 선언\n",
    "x = tf.placeholder(tf.float32, [None, 4]) # 변수 수가 4개\n",
    "y = tf.placeholder(tf.float32, [None, 3]) # 분류 클래스 수가 3개"
   ]
  },
  {
   "cell_type": "code",
   "execution_count": 34,
   "metadata": {
    "id": "8vhbTCe9UVZC"
   },
   "outputs": [],
   "source": [
    "# Weight와 bias를 저장할 변수 선언\n",
    "W = tf.Variable(tf.zeros([4, 3]))\n",
    "b = tf.Variable(tf.zeros([3]))"
   ]
  },
  {
   "cell_type": "code",
   "execution_count": 35,
   "metadata": {
    "id": "e55w6XmWUVZD"
   },
   "outputs": [],
   "source": [
    "# 출력을 정의\n",
    "h = tf.nn.softmax(tf.matmul(x, W) + b)"
   ]
  },
  {
   "cell_type": "code",
   "execution_count": 36,
   "metadata": {
    "id": "Cw_6BUXwUVZD"
   },
   "outputs": [],
   "source": [
    "# 손실함수 정의\n",
    "cross_entropy = -tf.reduce_sum(y*tf.log(h), reduction_indices=[1])\n",
    "loss = tf.reduce_mean(cross_entropy)"
   ]
  },
  {
   "cell_type": "code",
   "execution_count": 37,
   "metadata": {
    "id": "f0woAbdmUVZD"
   },
   "outputs": [],
   "source": [
    "# 학습(훈련) 정의(옵티마이저, 학습률)\n",
    "train = tf.train.GradientDescentOptimizer(0.001).minimize(loss)"
   ]
  },
  {
   "cell_type": "code",
   "execution_count": 38,
   "metadata": {
    "id": "I2vcWLkQUVZD"
   },
   "outputs": [],
   "source": [
    "init = tf.global_variables_initializer()"
   ]
  },
  {
   "cell_type": "code",
   "execution_count": 39,
   "metadata": {
    "id": "BDS7YO-vUVZD"
   },
   "outputs": [],
   "source": [
    "sess = tf.Session()\n",
    "sess.run(init)"
   ]
  },
  {
   "cell_type": "code",
   "execution_count": 40,
   "metadata": {
    "colab": {
     "base_uri": "https://localhost:8080/"
    },
    "id": "6j4c7RWYUVZD",
    "outputId": "3e8e3e43-e63e-4a46-cf24-52f5e6f59ba7"
   },
   "outputs": [
    {
     "name": "stdout",
     "output_type": "stream",
     "text": [
      "0 1.098612\n",
      "10000 0.34161025\n",
      "20000 0.25733855\n",
      "30000 0.21406321\n",
      "40000 0.18752669\n",
      "50000 0.16956553\n",
      "60000 0.1565753\n",
      "70000 0.14672598\n",
      "80000 0.13898852\n",
      "90000 0.13273858\n"
     ]
    }
   ],
   "source": [
    "for i in range(100000):\n",
    "    _, loss_value = sess.run([train, loss], feed_dict={x:train_X, y:train_y})\n",
    "    if i%10000 == 0:\n",
    "        print(i, loss_value)"
   ]
  },
  {
   "cell_type": "code",
   "execution_count": 41,
   "metadata": {
    "id": "_1Lkewd6UVZD"
   },
   "outputs": [],
   "source": [
    "correct_prediction = tf.equal(tf.argmax(h, 1), tf.argmax(y, 1))"
   ]
  },
  {
   "cell_type": "code",
   "execution_count": 42,
   "metadata": {
    "id": "hBb9CH2aUVZD"
   },
   "outputs": [],
   "source": [
    "accuracy = tf.reduce_mean(tf.cast(correct_prediction, tf.float32))"
   ]
  },
  {
   "cell_type": "code",
   "execution_count": 43,
   "metadata": {
    "colab": {
     "base_uri": "https://localhost:8080/"
    },
    "id": "9RygeGo_UVZD",
    "outputId": "f6804ad6-7ccc-457e-f543-e1d8ad37ed3e"
   },
   "outputs": [
    {
     "name": "stdout",
     "output_type": "stream",
     "text": [
      "0.9777778\n"
     ]
    }
   ],
   "source": [
    "print(sess.run(accuracy, feed_dict={x:test_X, y:test_y}))"
   ]
  }
 ],
 "metadata": {
  "colab": {
   "collapsed_sections": [],
   "name": "3. Tensorflow & Keras.ipynb",
   "provenance": []
  },
  "kernelspec": {
   "display_name": "Python 3",
   "language": "python",
   "name": "python3"
  },
  "language_info": {
   "codemirror_mode": {
    "name": "ipython",
    "version": 3
   },
   "file_extension": ".py",
   "mimetype": "text/x-python",
   "name": "python",
   "nbconvert_exporter": "python",
   "pygments_lexer": "ipython3",
   "version": "3.7.9"
  }
 },
 "nbformat": 4,
 "nbformat_minor": 1
}
